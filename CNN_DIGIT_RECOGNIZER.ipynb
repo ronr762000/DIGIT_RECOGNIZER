{
  "cells": [
    {
      "cell_type": "markdown",
      "metadata": {
        "id": "view-in-github",
        "colab_type": "text"
      },
      "source": [
        "<a href=\"https://colab.research.google.com/github/ronr762000/DIGIT_RECOGNIZER/blob/main/CNN_DIGIT_RECOGNIZER.ipynb\" target=\"_parent\"><img src=\"https://colab.research.google.com/assets/colab-badge.svg\" alt=\"Open In Colab\"/></a>"
      ]
    },
    {
      "cell_type": "code",
      "execution_count": null,
      "metadata": {
        "id": "hIFPjmexKC3J"
      },
      "outputs": [],
      "source": [
        "#Load the database to variable named digit_mnist using the Keras inbuilt datasets (digit_mnist = keras.datasets.mnist)\n",
        "import numpy as np\n",
        "import pandas as pd\n",
        "import matplotlib.pyplot as plt\n",
        "import tensorflow as tf\n",
        "from tensorflow import keras"
      ]
    },
    {
      "cell_type": "code",
      "execution_count": null,
      "metadata": {
        "id": "3nY6UkpfKain"
      },
      "outputs": [],
      "source": [
        "digit_mnist = keras.datasets.mnist"
      ]
    },
    {
      "cell_type": "code",
      "execution_count": null,
      "metadata": {
        "colab": {
          "base_uri": "https://localhost:8080/"
        },
        "id": "wWOr7yRjKieD",
        "outputId": "c62f3644-8386-4e36-d71d-afab48001bda"
      },
      "outputs": [
        {
          "name": "stdout",
          "output_type": "stream",
          "text": [
            "Downloading data from https://storage.googleapis.com/tensorflow/tf-keras-datasets/mnist.npz\n",
            "11493376/11490434 [==============================] - 0s 0us/step\n",
            "11501568/11490434 [==============================] - 0s 0us/step\n"
          ]
        }
      ],
      "source": [
        "#Import data to create X_train_full, y_train_full, X_test and y_test variables\n",
        "(X_train_full,y_train_full),(X_test,y_test)=digit_mnist.load_data()"
      ]
    },
    {
      "cell_type": "code",
      "execution_count": null,
      "metadata": {
        "id": "DMhWbZxTKlNM"
      },
      "outputs": [],
      "source": [
        "#Normalize the data\n",
        "X_train_n=X_train_full/255.0\n",
        "X_test_n=X_test/255.0"
      ]
    },
    {
      "cell_type": "code",
      "execution_count": null,
      "metadata": {
        "id": "4XZFF237KolO"
      },
      "outputs": [],
      "source": [
        "#Create a validation set of 6000 images\n",
        "X_valid,X_train=X_train_n[:6000],X_train_n[6000:]\n",
        "y_valid,y_train=y_train_full[:6000],y_train_full[6000:]"
      ]
    },
    {
      "cell_type": "code",
      "execution_count": null,
      "metadata": {
        "id": "lTq6uz34Ks1y"
      },
      "outputs": [],
      "source": [
        "X_test=X_test_n"
      ]
    },
    {
      "cell_type": "code",
      "execution_count": null,
      "metadata": {
        "id": "HWv1Yp6wKwR6"
      },
      "outputs": [],
      "source": [
        "np.random.seed(101)\n",
        "tf.random.set_seed(101)"
      ]
    },
    {
      "cell_type": "code",
      "execution_count": null,
      "metadata": {
        "id": "Gi8qjuWiKy8Q"
      },
      "outputs": [],
      "source": [
        "#Create an CNN model with two dense layers of 200 and 100 neurons\n",
        "model_a=keras.models.Sequential()"
      ]
    },
    {
      "cell_type": "code",
      "execution_count": null,
      "metadata": {
        "id": "ymOtk1KyLAUf"
      },
      "outputs": [],
      "source": [
        "model_a.add(keras.layers.Conv2D(filters=32,kernel_size = (3, 3), strides=1, padding='valid',activation='relu',input_shape=(28,28,1)))"
      ]
    },
    {
      "cell_type": "code",
      "execution_count": null,
      "metadata": {
        "id": "47D_f7vXLZPi"
      },
      "outputs": [],
      "source": [
        "model_a.add(keras.layers.MaxPooling2D(2,2))"
      ]
    },
    {
      "cell_type": "code",
      "execution_count": null,
      "metadata": {
        "id": "kp1UY8s7LkWE"
      },
      "outputs": [],
      "source": [
        "model_a.add(keras.layers.Flatten())"
      ]
    },
    {
      "cell_type": "code",
      "execution_count": null,
      "metadata": {
        "id": "_aXOBperLqwd"
      },
      "outputs": [],
      "source": [
        "model_a.add(keras.layers.Dense(200,activation=\"relu\"))"
      ]
    },
    {
      "cell_type": "code",
      "execution_count": null,
      "metadata": {
        "id": "Zp6_9WsBLzq6"
      },
      "outputs": [],
      "source": [
        "model_a.add(keras.layers.Dense(100,activation=\"relu\"))"
      ]
    },
    {
      "cell_type": "code",
      "execution_count": null,
      "metadata": {
        "id": "EhPBTqlcL4eu"
      },
      "outputs": [],
      "source": [
        "model_a.add(keras.layers.Dense(10,activation=\"softmax\"))"
      ]
    },
    {
      "cell_type": "code",
      "execution_count": null,
      "metadata": {
        "id": "MUucdZSdL71o"
      },
      "outputs": [],
      "source": [
        "model_a.compile(loss=\"sparse_categorical_crossentropy\",optimizer=\"sgd\",metrics=[\"accuracy\"])"
      ]
    },
    {
      "cell_type": "code",
      "execution_count": null,
      "metadata": {
        "colab": {
          "background_save": true,
          "base_uri": "https://localhost:8080/"
        },
        "id": "q-4TixfUMEeC",
        "outputId": "fdad3fc8-9258-4228-cb5c-aedadf81da5b"
      },
      "outputs": [
        {
          "name": "stdout",
          "output_type": "stream",
          "text": [
            "Epoch 1/60\n",
            "1688/1688 [==============================] - 38s 22ms/step - loss: 0.5046 - accuracy: 0.8619 - val_loss: 0.2222 - val_accuracy: 0.9348\n",
            "Epoch 2/60\n",
            "1688/1688 [==============================] - 37s 22ms/step - loss: 0.2058 - accuracy: 0.9386 - val_loss: 0.1775 - val_accuracy: 0.9467\n",
            "Epoch 3/60\n",
            "1688/1688 [==============================] - 37s 22ms/step - loss: 0.1508 - accuracy: 0.9554 - val_loss: 0.1254 - val_accuracy: 0.9632\n",
            "Epoch 4/60\n",
            "1688/1688 [==============================] - 37s 22ms/step - loss: 0.1227 - accuracy: 0.9625 - val_loss: 0.1175 - val_accuracy: 0.9625\n",
            "Epoch 5/60\n",
            "1688/1688 [==============================] - 37s 22ms/step - loss: 0.1034 - accuracy: 0.9687 - val_loss: 0.1286 - val_accuracy: 0.9600\n",
            "Epoch 6/60\n",
            "1688/1688 [==============================] - 38s 23ms/step - loss: 0.0889 - accuracy: 0.9723 - val_loss: 0.0966 - val_accuracy: 0.9702\n",
            "Epoch 7/60\n",
            "1688/1688 [==============================] - 37s 22ms/step - loss: 0.0782 - accuracy: 0.9763 - val_loss: 0.0807 - val_accuracy: 0.9742\n",
            "Epoch 8/60\n",
            "1688/1688 [==============================] - 37s 22ms/step - loss: 0.0700 - accuracy: 0.9784 - val_loss: 0.0776 - val_accuracy: 0.9738\n",
            "Epoch 9/60\n",
            "1688/1688 [==============================] - 37s 22ms/step - loss: 0.0629 - accuracy: 0.9807 - val_loss: 0.0718 - val_accuracy: 0.9778\n",
            "Epoch 10/60\n",
            "1688/1688 [==============================] - 37s 22ms/step - loss: 0.0566 - accuracy: 0.9821 - val_loss: 0.0711 - val_accuracy: 0.9785\n",
            "Epoch 11/60\n",
            "1688/1688 [==============================] - 37s 22ms/step - loss: 0.0519 - accuracy: 0.9837 - val_loss: 0.0803 - val_accuracy: 0.9747\n",
            "Epoch 12/60\n",
            "1688/1688 [==============================] - 37s 22ms/step - loss: 0.0475 - accuracy: 0.9855 - val_loss: 0.0652 - val_accuracy: 0.9797\n",
            "Epoch 13/60\n",
            "1688/1688 [==============================] - 37s 22ms/step - loss: 0.0434 - accuracy: 0.9867 - val_loss: 0.0621 - val_accuracy: 0.9815\n",
            "Epoch 14/60\n",
            "1688/1688 [==============================] - 38s 23ms/step - loss: 0.0388 - accuracy: 0.9883 - val_loss: 0.0586 - val_accuracy: 0.9805\n",
            "Epoch 15/60\n",
            "1688/1688 [==============================] - 37s 22ms/step - loss: 0.0358 - accuracy: 0.9889 - val_loss: 0.0622 - val_accuracy: 0.9795\n",
            "Epoch 16/60\n",
            "1688/1688 [==============================] - 37s 22ms/step - loss: 0.0332 - accuracy: 0.9900 - val_loss: 0.0752 - val_accuracy: 0.9777\n",
            "Epoch 17/60\n",
            "1688/1688 [==============================] - 37s 22ms/step - loss: 0.0309 - accuracy: 0.9905 - val_loss: 0.0820 - val_accuracy: 0.9730\n",
            "Epoch 18/60\n",
            "1688/1688 [==============================] - 37s 22ms/step - loss: 0.0275 - accuracy: 0.9919 - val_loss: 0.0587 - val_accuracy: 0.9820\n",
            "Epoch 19/60\n",
            "1688/1688 [==============================] - 37s 22ms/step - loss: 0.0257 - accuracy: 0.9922 - val_loss: 0.0772 - val_accuracy: 0.9780\n",
            "Epoch 20/60\n",
            "1688/1688 [==============================] - 37s 22ms/step - loss: 0.0230 - accuracy: 0.9933 - val_loss: 0.0614 - val_accuracy: 0.9822\n",
            "Epoch 21/60\n",
            "1688/1688 [==============================] - 38s 22ms/step - loss: 0.0214 - accuracy: 0.9938 - val_loss: 0.0642 - val_accuracy: 0.9802\n",
            "Epoch 22/60\n",
            "1688/1688 [==============================] - 37s 22ms/step - loss: 0.0195 - accuracy: 0.9940 - val_loss: 0.0611 - val_accuracy: 0.9803\n",
            "Epoch 23/60\n",
            "1688/1688 [==============================] - 37s 22ms/step - loss: 0.0182 - accuracy: 0.9948 - val_loss: 0.0653 - val_accuracy: 0.9797\n",
            "Epoch 24/60\n",
            "1688/1688 [==============================] - 37s 22ms/step - loss: 0.0169 - accuracy: 0.9949 - val_loss: 0.0620 - val_accuracy: 0.9828\n",
            "Epoch 25/60\n",
            "1688/1688 [==============================] - 37s 22ms/step - loss: 0.0156 - accuracy: 0.9955 - val_loss: 0.0618 - val_accuracy: 0.9817\n",
            "Epoch 26/60\n",
            "1688/1688 [==============================] - 37s 22ms/step - loss: 0.0136 - accuracy: 0.9965 - val_loss: 0.0553 - val_accuracy: 0.9825\n",
            "Epoch 27/60\n",
            "1688/1688 [==============================] - 37s 22ms/step - loss: 0.0131 - accuracy: 0.9964 - val_loss: 0.0562 - val_accuracy: 0.9843\n",
            "Epoch 28/60\n",
            "1688/1688 [==============================] - 37s 22ms/step - loss: 0.0120 - accuracy: 0.9968 - val_loss: 0.0640 - val_accuracy: 0.9807\n",
            "Epoch 29/60\n",
            "1688/1688 [==============================] - 40s 24ms/step - loss: 0.0103 - accuracy: 0.9974 - val_loss: 0.0592 - val_accuracy: 0.9827\n",
            "Epoch 30/60\n",
            "1688/1688 [==============================] - 39s 23ms/step - loss: 0.0098 - accuracy: 0.9975 - val_loss: 0.0605 - val_accuracy: 0.9832\n",
            "Epoch 31/60\n",
            "1688/1688 [==============================] - 38s 22ms/step - loss: 0.0092 - accuracy: 0.9977 - val_loss: 0.0604 - val_accuracy: 0.9820\n",
            "Epoch 32/60\n",
            "1688/1688 [==============================] - 38s 22ms/step - loss: 0.0079 - accuracy: 0.9982 - val_loss: 0.0637 - val_accuracy: 0.9813\n",
            "Epoch 33/60\n",
            "1688/1688 [==============================] - 38s 23ms/step - loss: 0.0073 - accuracy: 0.9983 - val_loss: 0.0616 - val_accuracy: 0.9820\n",
            "Epoch 34/60\n",
            "1688/1688 [==============================] - 38s 23ms/step - loss: 0.0062 - accuracy: 0.9988 - val_loss: 0.0763 - val_accuracy: 0.9795\n",
            "Epoch 35/60\n",
            "1688/1688 [==============================] - 39s 23ms/step - loss: 0.0055 - accuracy: 0.9989 - val_loss: 0.0599 - val_accuracy: 0.9833\n",
            "Epoch 36/60\n",
            "1688/1688 [==============================] - 40s 23ms/step - loss: 0.0054 - accuracy: 0.9991 - val_loss: 0.0618 - val_accuracy: 0.9818\n",
            "Epoch 37/60\n",
            "1688/1688 [==============================] - 38s 23ms/step - loss: 0.0050 - accuracy: 0.9990 - val_loss: 0.0645 - val_accuracy: 0.9833\n",
            "Epoch 38/60\n",
            "1688/1688 [==============================] - 38s 23ms/step - loss: 0.0044 - accuracy: 0.9994 - val_loss: 0.0659 - val_accuracy: 0.9825\n",
            "Epoch 39/60\n",
            "1688/1688 [==============================] - 38s 23ms/step - loss: 0.0037 - accuracy: 0.9996 - val_loss: 0.0652 - val_accuracy: 0.9837\n",
            "Epoch 40/60\n",
            "1688/1688 [==============================] - 38s 23ms/step - loss: 0.0034 - accuracy: 0.9996 - val_loss: 0.0625 - val_accuracy: 0.9830\n",
            "Epoch 41/60\n",
            "1688/1688 [==============================] - 38s 23ms/step - loss: 0.0031 - accuracy: 0.9997 - val_loss: 0.0757 - val_accuracy: 0.9812\n",
            "Epoch 42/60\n",
            "1688/1688 [==============================] - 38s 22ms/step - loss: 0.0029 - accuracy: 0.9996 - val_loss: 0.0635 - val_accuracy: 0.9832\n",
            "Epoch 43/60\n",
            "1688/1688 [==============================] - 39s 23ms/step - loss: 0.0025 - accuracy: 0.9998 - val_loss: 0.0636 - val_accuracy: 0.9838\n",
            "Epoch 44/60\n",
            "1688/1688 [==============================] - 38s 22ms/step - loss: 0.0023 - accuracy: 0.9998 - val_loss: 0.0659 - val_accuracy: 0.9830\n",
            "Epoch 45/60\n",
            "1688/1688 [==============================] - 38s 22ms/step - loss: 0.0022 - accuracy: 0.9999 - val_loss: 0.0672 - val_accuracy: 0.9840\n",
            "Epoch 46/60\n",
            "1688/1688 [==============================] - 38s 22ms/step - loss: 0.0021 - accuracy: 0.9998 - val_loss: 0.0650 - val_accuracy: 0.9832\n",
            "Epoch 47/60\n",
            "1688/1688 [==============================] - 38s 22ms/step - loss: 0.0018 - accuracy: 0.9999 - val_loss: 0.0642 - val_accuracy: 0.9847\n",
            "Epoch 48/60\n",
            "1688/1688 [==============================] - 37s 22ms/step - loss: 0.0019 - accuracy: 0.9999 - val_loss: 0.0667 - val_accuracy: 0.9827\n",
            "Epoch 49/60\n",
            "1688/1688 [==============================] - 37s 22ms/step - loss: 0.0016 - accuracy: 0.9999 - val_loss: 0.0666 - val_accuracy: 0.9827\n",
            "Epoch 50/60\n",
            "1688/1688 [==============================] - 38s 23ms/step - loss: 0.0016 - accuracy: 0.9999 - val_loss: 0.0663 - val_accuracy: 0.9832\n",
            "Epoch 51/60\n",
            "1688/1688 [==============================] - 38s 23ms/step - loss: 0.0015 - accuracy: 0.9999 - val_loss: 0.0667 - val_accuracy: 0.9837\n",
            "Epoch 52/60\n",
            "1688/1688 [==============================] - 38s 23ms/step - loss: 0.0013 - accuracy: 0.9999 - val_loss: 0.0660 - val_accuracy: 0.9852\n",
            "Epoch 53/60\n",
            "1688/1688 [==============================] - 38s 23ms/step - loss: 0.0012 - accuracy: 1.0000 - val_loss: 0.0675 - val_accuracy: 0.9843\n",
            "Epoch 54/60\n",
            "1688/1688 [==============================] - 38s 23ms/step - loss: 0.0012 - accuracy: 1.0000 - val_loss: 0.0678 - val_accuracy: 0.9833\n",
            "Epoch 55/60\n",
            "1688/1688 [==============================] - 38s 23ms/step - loss: 0.0011 - accuracy: 1.0000 - val_loss: 0.0673 - val_accuracy: 0.9833\n",
            "Epoch 56/60\n",
            "1688/1688 [==============================] - 38s 23ms/step - loss: 0.0011 - accuracy: 1.0000 - val_loss: 0.0681 - val_accuracy: 0.9848\n",
            "Epoch 57/60\n",
            "1688/1688 [==============================] - 38s 23ms/step - loss: 0.0010 - accuracy: 1.0000 - val_loss: 0.0671 - val_accuracy: 0.9842\n",
            "Epoch 58/60\n",
            "1688/1688 [==============================] - 39s 23ms/step - loss: 9.6005e-04 - accuracy: 1.0000 - val_loss: 0.0674 - val_accuracy: 0.9847\n",
            "Epoch 59/60\n",
            "1688/1688 [==============================] - 38s 23ms/step - loss: 9.2502e-04 - accuracy: 1.0000 - val_loss: 0.0684 - val_accuracy: 0.9843\n",
            "Epoch 60/60\n",
            "1688/1688 [==============================] - 38s 23ms/step - loss: 8.8149e-04 - accuracy: 1.0000 - val_loss: 0.0700 - val_accuracy: 0.9838\n"
          ]
        }
      ],
      "source": [
        "model_a_history=model_a.fit(X_train,y_train,epochs=60,validation_data=(X_valid,y_valid))"
      ]
    },
    {
      "cell_type": "code",
      "execution_count": null,
      "metadata": {
        "id": "hJfIHxbnMOQ9"
      },
      "outputs": [],
      "source": [
        ""
      ]
    }
  ],
  "metadata": {
    "colab": {
      "name": "CNN_DIGIT_RECOGNIZER.ipynb",
      "provenance": [],
      "authorship_tag": "ABX9TyN/asLB/Fvz+AbfT091CPv+",
      "include_colab_link": true
    },
    "kernelspec": {
      "display_name": "Python 3",
      "name": "python3"
    },
    "language_info": {
      "name": "python"
    }
  },
  "nbformat": 4,
  "nbformat_minor": 0
}