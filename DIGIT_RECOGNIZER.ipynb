{
  "nbformat": 4,
  "nbformat_minor": 0,
  "metadata": {
    "colab": {
      "name": "DIGIT_RECOGNIZER.ipynb",
      "provenance": [],
      "authorship_tag": "ABX9TyNJtjcZlNkH19U7XUpJmZ+a",
      "include_colab_link": true
    },
    "kernelspec": {
      "name": "python3",
      "display_name": "Python 3"
    },
    "language_info": {
      "name": "python"
    }
  },
  "cells": [
    {
      "cell_type": "markdown",
      "metadata": {
        "id": "view-in-github",
        "colab_type": "text"
      },
      "source": [
        "<a href=\"https://colab.research.google.com/github/ronr762000/DIGIT_RECOGNIZER/blob/main/DIGIT_RECOGNIZER.ipynb\" target=\"_parent\"><img src=\"https://colab.research.google.com/assets/colab-badge.svg\" alt=\"Open In Colab\"/></a>"
      ]
    },
    {
      "cell_type": "markdown",
      "source": [
        " Assignment: MNIST Digit classification\n",
        "\n",
        "This assignment will help you practice the concepts you are learning side-by-side. For this assignment, we will be working on the MNIST database. The MNIST data is a database of handwritten digits from 0 to 9. The database contains 60,000 28x28 grayscale images of the 10 digits, along with a test set of 10,000 images. Your task is to create an ANN model for identifying the digit from the handwritten images."
      ],
      "metadata": {
        "id": "JIWLIunDiim-"
      }
    },
    {
      "cell_type": "code",
      "source": [
        "#Load the database to variable named digit_mnist using the Keras inbuilt datasets (digit_mnist = keras.datasets.mnist)\n",
        "import numpy as np\n",
        "import pandas as pd\n",
        "import matplotlib.pyplot as plt\n",
        "import tensorflow as tf\n",
        "from tensorflow import keras"
      ],
      "metadata": {
        "id": "w3ihXSgRinVO"
      },
      "execution_count": 1,
      "outputs": []
    },
    {
      "cell_type": "code",
      "source": [
        "digit_mnist = keras.datasets.mnist"
      ],
      "metadata": {
        "id": "_8sHguw6jZmY"
      },
      "execution_count": 2,
      "outputs": []
    },
    {
      "cell_type": "code",
      "source": [
        "#Import data to create X_train_full, y_train_full, X_test and y_test variables\n",
        "(X_train_full,y_train_full),(X_test,y_test)=digit_mnist.load_data()"
      ],
      "metadata": {
        "colab": {
          "base_uri": "https://localhost:8080/"
        },
        "id": "Vxa6HrMNji8o",
        "outputId": "fc2c58bb-9cf9-4819-8979-e3d77b37d925"
      },
      "execution_count": 3,
      "outputs": [
        {
          "output_type": "stream",
          "name": "stdout",
          "text": [
            "Downloading data from https://storage.googleapis.com/tensorflow/tf-keras-datasets/mnist.npz\n",
            "11493376/11490434 [==============================] - 0s 0us/step\n",
            "11501568/11490434 [==============================] - 0s 0us/step\n"
          ]
        }
      ]
    },
    {
      "cell_type": "code",
      "source": [
        "#Normalize the data\n",
        "X_train_n=X_train_full/255.0\n",
        "X_test_n=X_test/255.0"
      ],
      "metadata": {
        "id": "Th-CoDpGj1Ld"
      },
      "execution_count": 8,
      "outputs": []
    },
    {
      "cell_type": "code",
      "source": [
        "#Create a validation set of 6000 images\n",
        "X_valid,X_train=X_train_n[:6000],X_train_n[6000:]\n",
        "y_valid,y_train=y_train_full[:6000],y_train_full[6000:]"
      ],
      "metadata": {
        "id": "fmjakhqWj-bx"
      },
      "execution_count": 9,
      "outputs": []
    },
    {
      "cell_type": "code",
      "source": [
        "X_test=X_test_n"
      ],
      "metadata": {
        "id": "pCkhLbwpk6x5"
      },
      "execution_count": 10,
      "outputs": []
    },
    {
      "cell_type": "code",
      "source": [
        "#Create an ANN model with two dense layers of 200 and 100 neurons\n",
        "np.random.seed(101)\n",
        "tf.random.set_seed(101)"
      ],
      "metadata": {
        "id": "_UlkrtBelAfr"
      },
      "execution_count": 12,
      "outputs": []
    },
    {
      "cell_type": "code",
      "source": [
        "model=keras.models.Sequential()"
      ],
      "metadata": {
        "id": "VJKl36yflI2y"
      },
      "execution_count": 14,
      "outputs": []
    },
    {
      "cell_type": "code",
      "source": [
        "model.add(keras.layers.Flatten(input_shape=[28,28]))"
      ],
      "metadata": {
        "id": "cXG1x1jjlVIS"
      },
      "execution_count": 16,
      "outputs": []
    },
    {
      "cell_type": "code",
      "source": [
        "model.add(keras.layers.Dense(200,activation=\"relu\"))"
      ],
      "metadata": {
        "id": "hothaB_Hll30"
      },
      "execution_count": 17,
      "outputs": []
    },
    {
      "cell_type": "code",
      "source": [
        "model.add(keras.layers.Dense(100,activation=\"relu\"))"
      ],
      "metadata": {
        "id": "_DLLeRPzl2jt"
      },
      "execution_count": 18,
      "outputs": []
    },
    {
      "cell_type": "code",
      "source": [
        "model.add(keras.layers.Dense(10,activation=\"softmax\"))"
      ],
      "metadata": {
        "id": "R-U3g4ogl5r-"
      },
      "execution_count": 19,
      "outputs": []
    },
    {
      "cell_type": "code",
      "source": [
        "#Compile and train the model for 60 epochs\n",
        "model.compile(loss=\"sparse_categorical_crossentropy\",optimizer=\"sgd\",metrics=[\"accuracy\"])"
      ],
      "metadata": {
        "id": "zPpO1BbMmEh-"
      },
      "execution_count": 21,
      "outputs": []
    },
    {
      "cell_type": "code",
      "source": [
        "model_history=model.fit(X_train,y_train,epochs=60,validation_data=(X_valid,y_valid))"
      ],
      "metadata": {
        "colab": {
          "base_uri": "https://localhost:8080/"
        },
        "id": "Cmjm92gxmMxM",
        "outputId": "dc5c3da2-1c51-4864-89e2-58964e16d301"
      },
      "execution_count": 22,
      "outputs": [
        {
          "output_type": "stream",
          "name": "stdout",
          "text": [
            "Epoch 1/60\n",
            "1688/1688 [==============================] - 7s 4ms/step - loss: 0.6523 - accuracy: 0.8331 - val_loss: 0.3144 - val_accuracy: 0.9135\n",
            "Epoch 2/60\n",
            "1688/1688 [==============================] - 6s 3ms/step - loss: 0.2926 - accuracy: 0.9165 - val_loss: 0.2514 - val_accuracy: 0.9295\n",
            "Epoch 3/60\n",
            "1688/1688 [==============================] - 6s 4ms/step - loss: 0.2377 - accuracy: 0.9325 - val_loss: 0.2052 - val_accuracy: 0.9432\n",
            "Epoch 4/60\n",
            "1688/1688 [==============================] - 6s 3ms/step - loss: 0.2035 - accuracy: 0.9414 - val_loss: 0.1842 - val_accuracy: 0.9490\n",
            "Epoch 5/60\n",
            "1688/1688 [==============================] - 6s 3ms/step - loss: 0.1790 - accuracy: 0.9484 - val_loss: 0.1652 - val_accuracy: 0.9543\n",
            "Epoch 6/60\n",
            "1688/1688 [==============================] - 6s 3ms/step - loss: 0.1588 - accuracy: 0.9545 - val_loss: 0.1502 - val_accuracy: 0.9585\n",
            "Epoch 7/60\n",
            "1688/1688 [==============================] - 6s 4ms/step - loss: 0.1430 - accuracy: 0.9595 - val_loss: 0.1363 - val_accuracy: 0.9620\n",
            "Epoch 8/60\n",
            "1688/1688 [==============================] - 6s 3ms/step - loss: 0.1302 - accuracy: 0.9626 - val_loss: 0.1275 - val_accuracy: 0.9637\n",
            "Epoch 9/60\n",
            "1688/1688 [==============================] - 6s 3ms/step - loss: 0.1185 - accuracy: 0.9666 - val_loss: 0.1218 - val_accuracy: 0.9663\n",
            "Epoch 10/60\n",
            "1688/1688 [==============================] - 6s 4ms/step - loss: 0.1090 - accuracy: 0.9693 - val_loss: 0.1163 - val_accuracy: 0.9667\n",
            "Epoch 11/60\n",
            "1688/1688 [==============================] - 6s 4ms/step - loss: 0.1009 - accuracy: 0.9713 - val_loss: 0.1090 - val_accuracy: 0.9678\n",
            "Epoch 12/60\n",
            "1688/1688 [==============================] - 7s 4ms/step - loss: 0.0936 - accuracy: 0.9734 - val_loss: 0.1016 - val_accuracy: 0.9702\n",
            "Epoch 13/60\n",
            "1688/1688 [==============================] - 6s 3ms/step - loss: 0.0871 - accuracy: 0.9755 - val_loss: 0.0989 - val_accuracy: 0.9720\n",
            "Epoch 14/60\n",
            "1688/1688 [==============================] - 7s 4ms/step - loss: 0.0810 - accuracy: 0.9769 - val_loss: 0.0942 - val_accuracy: 0.9730\n",
            "Epoch 15/60\n",
            "1688/1688 [==============================] - 6s 3ms/step - loss: 0.0758 - accuracy: 0.9787 - val_loss: 0.0934 - val_accuracy: 0.9718\n",
            "Epoch 16/60\n",
            "1688/1688 [==============================] - 6s 4ms/step - loss: 0.0708 - accuracy: 0.9799 - val_loss: 0.0917 - val_accuracy: 0.9728\n",
            "Epoch 17/60\n",
            "1688/1688 [==============================] - 6s 4ms/step - loss: 0.0667 - accuracy: 0.9814 - val_loss: 0.0873 - val_accuracy: 0.9758\n",
            "Epoch 18/60\n",
            "1688/1688 [==============================] - 6s 4ms/step - loss: 0.0627 - accuracy: 0.9826 - val_loss: 0.0868 - val_accuracy: 0.9745\n",
            "Epoch 19/60\n",
            "1688/1688 [==============================] - 6s 3ms/step - loss: 0.0591 - accuracy: 0.9839 - val_loss: 0.0844 - val_accuracy: 0.9758\n",
            "Epoch 20/60\n",
            "1688/1688 [==============================] - 6s 4ms/step - loss: 0.0556 - accuracy: 0.9849 - val_loss: 0.0825 - val_accuracy: 0.9742\n",
            "Epoch 21/60\n",
            "1688/1688 [==============================] - 5s 3ms/step - loss: 0.0526 - accuracy: 0.9856 - val_loss: 0.0808 - val_accuracy: 0.9758\n",
            "Epoch 22/60\n",
            "1688/1688 [==============================] - 6s 4ms/step - loss: 0.0495 - accuracy: 0.9867 - val_loss: 0.0788 - val_accuracy: 0.9775\n",
            "Epoch 23/60\n",
            "1688/1688 [==============================] - 6s 3ms/step - loss: 0.0468 - accuracy: 0.9878 - val_loss: 0.0807 - val_accuracy: 0.9767\n",
            "Epoch 24/60\n",
            "1688/1688 [==============================] - 6s 4ms/step - loss: 0.0446 - accuracy: 0.9882 - val_loss: 0.0782 - val_accuracy: 0.9780\n",
            "Epoch 25/60\n",
            "1688/1688 [==============================] - 6s 4ms/step - loss: 0.0422 - accuracy: 0.9887 - val_loss: 0.0766 - val_accuracy: 0.9772\n",
            "Epoch 26/60\n",
            "1688/1688 [==============================] - 6s 3ms/step - loss: 0.0398 - accuracy: 0.9897 - val_loss: 0.0757 - val_accuracy: 0.9782\n",
            "Epoch 27/60\n",
            "1688/1688 [==============================] - 6s 3ms/step - loss: 0.0376 - accuracy: 0.9903 - val_loss: 0.0750 - val_accuracy: 0.9780\n",
            "Epoch 28/60\n",
            "1688/1688 [==============================] - 6s 3ms/step - loss: 0.0358 - accuracy: 0.9904 - val_loss: 0.0745 - val_accuracy: 0.9795\n",
            "Epoch 29/60\n",
            "1688/1688 [==============================] - 6s 3ms/step - loss: 0.0337 - accuracy: 0.9918 - val_loss: 0.0752 - val_accuracy: 0.9770\n",
            "Epoch 30/60\n",
            "1688/1688 [==============================] - 6s 3ms/step - loss: 0.0320 - accuracy: 0.9921 - val_loss: 0.0765 - val_accuracy: 0.9782\n",
            "Epoch 31/60\n",
            "1688/1688 [==============================] - 5s 3ms/step - loss: 0.0306 - accuracy: 0.9926 - val_loss: 0.0748 - val_accuracy: 0.9778\n",
            "Epoch 32/60\n",
            "1688/1688 [==============================] - 6s 3ms/step - loss: 0.0290 - accuracy: 0.9928 - val_loss: 0.0752 - val_accuracy: 0.9782\n",
            "Epoch 33/60\n",
            "1688/1688 [==============================] - 6s 3ms/step - loss: 0.0277 - accuracy: 0.9930 - val_loss: 0.0743 - val_accuracy: 0.9783\n",
            "Epoch 34/60\n",
            "1688/1688 [==============================] - 5s 3ms/step - loss: 0.0260 - accuracy: 0.9940 - val_loss: 0.0759 - val_accuracy: 0.9793\n",
            "Epoch 35/60\n",
            "1688/1688 [==============================] - 6s 3ms/step - loss: 0.0248 - accuracy: 0.9942 - val_loss: 0.0758 - val_accuracy: 0.9782\n",
            "Epoch 36/60\n",
            "1688/1688 [==============================] - 6s 3ms/step - loss: 0.0237 - accuracy: 0.9947 - val_loss: 0.0730 - val_accuracy: 0.9790\n",
            "Epoch 37/60\n",
            "1688/1688 [==============================] - 5s 3ms/step - loss: 0.0224 - accuracy: 0.9955 - val_loss: 0.0749 - val_accuracy: 0.9788\n",
            "Epoch 38/60\n",
            "1688/1688 [==============================] - 5s 3ms/step - loss: 0.0214 - accuracy: 0.9958 - val_loss: 0.0746 - val_accuracy: 0.9787\n",
            "Epoch 39/60\n",
            "1688/1688 [==============================] - 7s 4ms/step - loss: 0.0203 - accuracy: 0.9962 - val_loss: 0.0748 - val_accuracy: 0.9788\n",
            "Epoch 40/60\n",
            "1688/1688 [==============================] - 6s 4ms/step - loss: 0.0193 - accuracy: 0.9966 - val_loss: 0.0738 - val_accuracy: 0.9790\n",
            "Epoch 41/60\n",
            "1688/1688 [==============================] - 6s 4ms/step - loss: 0.0185 - accuracy: 0.9967 - val_loss: 0.0763 - val_accuracy: 0.9782\n",
            "Epoch 42/60\n",
            "1688/1688 [==============================] - 6s 3ms/step - loss: 0.0175 - accuracy: 0.9971 - val_loss: 0.0744 - val_accuracy: 0.9787\n",
            "Epoch 43/60\n",
            "1688/1688 [==============================] - 5s 3ms/step - loss: 0.0166 - accuracy: 0.9976 - val_loss: 0.0750 - val_accuracy: 0.9795\n",
            "Epoch 44/60\n",
            "1688/1688 [==============================] - 5s 3ms/step - loss: 0.0159 - accuracy: 0.9975 - val_loss: 0.0743 - val_accuracy: 0.9787\n",
            "Epoch 45/60\n",
            "1688/1688 [==============================] - 5s 3ms/step - loss: 0.0153 - accuracy: 0.9976 - val_loss: 0.0751 - val_accuracy: 0.9792\n",
            "Epoch 46/60\n",
            "1688/1688 [==============================] - 6s 3ms/step - loss: 0.0144 - accuracy: 0.9978 - val_loss: 0.0765 - val_accuracy: 0.9788\n",
            "Epoch 47/60\n",
            "1688/1688 [==============================] - 6s 3ms/step - loss: 0.0138 - accuracy: 0.9980 - val_loss: 0.0746 - val_accuracy: 0.9793\n",
            "Epoch 48/60\n",
            "1688/1688 [==============================] - 6s 3ms/step - loss: 0.0132 - accuracy: 0.9984 - val_loss: 0.0765 - val_accuracy: 0.9788\n",
            "Epoch 49/60\n",
            "1688/1688 [==============================] - 6s 3ms/step - loss: 0.0127 - accuracy: 0.9985 - val_loss: 0.0746 - val_accuracy: 0.9788\n",
            "Epoch 50/60\n",
            "1688/1688 [==============================] - 6s 3ms/step - loss: 0.0120 - accuracy: 0.9984 - val_loss: 0.0743 - val_accuracy: 0.9795\n",
            "Epoch 51/60\n",
            "1688/1688 [==============================] - 6s 3ms/step - loss: 0.0115 - accuracy: 0.9986 - val_loss: 0.0760 - val_accuracy: 0.9793\n",
            "Epoch 52/60\n",
            "1688/1688 [==============================] - 5s 3ms/step - loss: 0.0111 - accuracy: 0.9987 - val_loss: 0.0765 - val_accuracy: 0.9790\n",
            "Epoch 53/60\n",
            "1688/1688 [==============================] - 6s 3ms/step - loss: 0.0106 - accuracy: 0.9988 - val_loss: 0.0764 - val_accuracy: 0.9788\n",
            "Epoch 54/60\n",
            "1688/1688 [==============================] - 6s 4ms/step - loss: 0.0101 - accuracy: 0.9991 - val_loss: 0.0746 - val_accuracy: 0.9795\n",
            "Epoch 55/60\n",
            "1688/1688 [==============================] - 7s 4ms/step - loss: 0.0097 - accuracy: 0.9990 - val_loss: 0.0765 - val_accuracy: 0.9793\n",
            "Epoch 56/60\n",
            "1688/1688 [==============================] - 6s 4ms/step - loss: 0.0093 - accuracy: 0.9991 - val_loss: 0.0770 - val_accuracy: 0.9807\n",
            "Epoch 57/60\n",
            "1688/1688 [==============================] - 6s 4ms/step - loss: 0.0090 - accuracy: 0.9992 - val_loss: 0.0765 - val_accuracy: 0.9802\n",
            "Epoch 58/60\n",
            "1688/1688 [==============================] - 6s 3ms/step - loss: 0.0085 - accuracy: 0.9992 - val_loss: 0.0762 - val_accuracy: 0.9800\n",
            "Epoch 59/60\n",
            "1688/1688 [==============================] - 6s 4ms/step - loss: 0.0082 - accuracy: 0.9994 - val_loss: 0.0770 - val_accuracy: 0.9793\n",
            "Epoch 60/60\n",
            "1688/1688 [==============================] - 6s 3ms/step - loss: 0.0079 - accuracy: 0.9994 - val_loss: 0.0777 - val_accuracy: 0.9800\n"
          ]
        }
      ]
    },
    {
      "cell_type": "code",
      "source": [
        "#Plot the loss and accuracy against epoch\n",
        "pd.DataFrame(model.history.history).plot(figsize=(8,6))\n",
        "plt.grid(True)\n",
        "plt.gca().set_ylim(0,1)\n",
        "plt.show()"
      ],
      "metadata": {
        "colab": {
          "base_uri": "https://localhost:8080/",
          "height": 378
        },
        "id": "BdFzXLrmnC0J",
        "outputId": "6d56ac1a-c1b9-4dc9-edb3-a9951e8b1022"
      },
      "execution_count": 23,
      "outputs": [
        {
          "output_type": "display_data",
          "data": {
            "text/plain": [
              "<Figure size 576x432 with 1 Axes>"
            ],
            "image/png": "[encoded data removed]"
          },
          "metadata": {
            "needs_background": "light"
          }
        }
      ]
    },
    {
      "cell_type": "code",
      "source": [
        "#Evaluate the model accuracy on the test dataset\n",
        "model.evaluate(X_test,y_test)"
      ],
      "metadata": {
        "colab": {
          "base_uri": "https://localhost:8080/"
        },
        "id": "96mbE64Fqd9W",
        "outputId": "9cd8fd41-7b0f-475f-ebed-f4b8776cb10e"
      },
      "execution_count": 24,
      "outputs": [
        {
          "output_type": "stream",
          "name": "stdout",
          "text": [
            "313/313 [==============================] - 1s 2ms/step - loss: 0.0716 - accuracy: 0.9800\n"
          ]
        },
        {
          "output_type": "execute_result",
          "data": {
            "text/plain": [
              "[0.07161173224449158, 0.9800000190734863]"
            ]
          },
          "metadata": {},
          "execution_count": 24
        }
      ]
    },
    {
      "cell_type": "code",
      "source": [
        "#Predict the digit for the first 5 records of the test dataset\n",
        "X_new=X_test[0:5]\n",
        "y_pred=model.predict(X_new)"
      ],
      "metadata": {
        "id": "VJJ1atZXqnY_"
      },
      "execution_count": 26,
      "outputs": []
    },
    {
      "cell_type": "code",
      "source": [
        "y_pred.round(2)"
      ],
      "metadata": {
        "colab": {
          "base_uri": "https://localhost:8080/"
        },
        "id": "HMgE1Fhmq11M",
        "outputId": "fc090d0c-c3f5-4f79-9033-ea4069057c04"
      },
      "execution_count": 27,
      "outputs": [
        {
          "output_type": "execute_result",
          "data": {
            "text/plain": [
              "array([[0., 0., 0., 0., 0., 0., 0., 1., 0., 0.],\n",
              "       [0., 0., 1., 0., 0., 0., 0., 0., 0., 0.],\n",
              "       [0., 1., 0., 0., 0., 0., 0., 0., 0., 0.],\n",
              "       [1., 0., 0., 0., 0., 0., 0., 0., 0., 0.],\n",
              "       [0., 0., 0., 0., 1., 0., 0., 0., 0., 0.]], dtype=float32)"
            ]
          },
          "metadata": {},
          "execution_count": 27
        }
      ]
    },
    {
      "cell_type": "code",
      "source": [
        "print(plt.imshow(X_test[78]))"
      ],
      "metadata": {
        "colab": {
          "base_uri": "https://localhost:8080/",
          "height": 282
        },
        "id": "6fSpY9kUq8qS",
        "outputId": "b52838cd-e18e-49a6-b59d-02aa6e636afb"
      },
      "execution_count": 30,
      "outputs": [
        {
          "output_type": "stream",
          "name": "stdout",
          "text": [
            "AxesImage(54,36;334.8x217.44)\n"
          ]
        },
        {
          "output_type": "display_data",
          "data": {
            "text/plain": [
              "<Figure size 432x288 with 1 Axes>"
            ],
            "image/png": "[encoded data removed]"
          },
          "metadata": {
            "needs_background": "light"
          }
        }
      ]
    },
    {
      "cell_type": "code",
      "source": [
        "y_test[78]"
      ],
      "metadata": {
        "colab": {
          "base_uri": "https://localhost:8080/"
        },
        "id": "HUutbcIlrCRr",
        "outputId": "f455b53f-4d4d-453d-bb64-7d053b0751e9"
      },
      "execution_count": 33,
      "outputs": [
        {
          "output_type": "execute_result",
          "data": {
            "text/plain": [
              "9"
            ]
          },
          "metadata": {},
          "execution_count": 33
        }
      ]
    },
    {
      "cell_type": "code",
      "source": [
        ""
      ],
      "metadata": {
        "id": "KPxVUS7FuWTY"
      },
      "execution_count": null,
      "outputs": []
    }
  ]
}